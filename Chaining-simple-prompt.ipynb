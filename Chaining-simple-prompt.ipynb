{
 "cells": [
  {
   "cell_type": "code",
   "execution_count": 7,
   "id": "4a689e3d",
   "metadata": {},
   "outputs": [],
   "source": [
    "from dotenv import dotenv_values\n",
    "config = dotenv_values(\"/home/tom/two/envapi/my-env\")"
   ]
  },
  {
   "cell_type": "code",
   "execution_count": 12,
   "id": "c5009b64",
   "metadata": {},
   "outputs": [],
   "source": [
    "OPENAI_API_KEY = config['OPENAI_API_KEY']"
   ]
  },
  {
   "cell_type": "code",
   "execution_count": 17,
   "id": "d229b68d",
   "metadata": {},
   "outputs": [],
   "source": [
    "openai_api_key = OPENAI_API_KEY"
   ]
  },
  {
   "cell_type": "code",
   "execution_count": 13,
   "id": "438c1727",
   "metadata": {},
   "outputs": [],
   "source": [
    "from langchain import PromptTemplate\n",
    "from langchain.chat_models import ChatOpenAI\n",
    "from langchain.schema import StrOutputParser"
   ]
  },
  {
   "cell_type": "code",
   "execution_count": null,
   "id": "d7a553aa",
   "metadata": {},
   "outputs": [],
   "source": []
  },
  {
   "cell_type": "code",
   "execution_count": 14,
   "id": "88590cc1",
   "metadata": {},
   "outputs": [],
   "source": [
    "prompt = PromptTemplate.from_template(\n",
    "    \"What is a good name for a company that makes {product}?\"\n",
    ")\n"
   ]
  },
  {
   "cell_type": "code",
   "execution_count": 29,
   "id": "b3602f1a",
   "metadata": {},
   "outputs": [
    {
     "data": {
      "text/plain": [
       "'Colorful Kids Feet'"
      ]
     },
     "execution_count": 29,
     "metadata": {},
     "output_type": "execute_result"
    }
   ],
   "source": [
    "#using LCEL\n",
    "runnable = prompt | ChatOpenAI(openai_api_key=OPENAI_API_KEY) | StrOutputParser()\n",
    "runnable.invoke({\"product\":\"colorful socks for kids\"})"
   ]
  },
  {
   "cell_type": "code",
   "execution_count": 30,
   "id": "fee30f07",
   "metadata": {},
   "outputs": [
    {
     "name": "stdout",
     "output_type": "stream",
     "text": [
      "\"Rainbow Toes\"\n"
     ]
    }
   ],
   "source": [
    "#using legacy chains\n",
    "from langchain.chains import LLMChain\n",
    "\n",
    "llm = ChatOpenAI(\n",
    "    temperature=0.9, \n",
    "    openai_api_key=OPENAI_API_KEY, \n",
    "    model=\"gpt-3.5-turbo\"\n",
    ")\n",
    "\n",
    "chain = LLMChain(\n",
    "    llm=llm, \n",
    "    prompt=prompt\n",
    ")\n",
    "\n",
    "print(chain.run({\"product\":\"colorful socks for kids\"}))"
   ]
  },
  {
   "cell_type": "code",
   "execution_count": null,
   "id": "d10fa32b",
   "metadata": {},
   "outputs": [],
   "source": []
  }
 ],
 "metadata": {
  "kernelspec": {
   "display_name": "Python 3 (ipykernel)",
   "language": "python",
   "name": "python3"
  },
  "language_info": {
   "codemirror_mode": {
    "name": "ipython",
    "version": 3
   },
   "file_extension": ".py",
   "mimetype": "text/x-python",
   "name": "python",
   "nbconvert_exporter": "python",
   "pygments_lexer": "ipython3",
   "version": "3.10.12"
  }
 },
 "nbformat": 4,
 "nbformat_minor": 5
}
